{
  "nbformat": 4,
  "nbformat_minor": 0,
  "metadata": {
    "colab": {
      "provenance": [],
      "gpuType": "T4"
    },
    "kernelspec": {
      "name": "python3",
      "display_name": "Python 3"
    },
    "language_info": {
      "name": "python"
    },
    "accelerator": "GPU"
  },
  "cells": [
    {
      "cell_type": "code",
      "execution_count": null,
      "metadata": {
        "id": "nO4qtfwhMHTU"
      },
      "outputs": [],
      "source": [
        "import pandas as pd\n",
        "import requests\n",
        "import numpy as np"
      ]
    },
    {
      "cell_type": "code",
      "source": [
        "\n",
        "# URL of the website containing the table\n",
        "url = 'https://www.screener.in/company/FEDERALBNK/consolidated/'\n",
        "\n",
        "# Read HTML tables into a list of DataFrame objects\n",
        "dfs = pd.read_html(url)\n",
        "\n",
        "\n",
        "\n",
        "\n",
        "# Print the extracted DataFrame\n"
      ],
      "metadata": {
        "id": "8OD-kaLsMLOh"
      },
      "execution_count": null,
      "outputs": []
    },
    {
      "cell_type": "code",
      "source": [
        "quaterly_results=dfs[0]"
      ],
      "metadata": {
        "id": "QJiSozESMyZr"
      },
      "execution_count": null,
      "outputs": []
    },
    {
      "cell_type": "code",
      "source": [
        "profit_loss=dfs[1]"
      ],
      "metadata": {
        "id": "PEgkU57AMsQ6"
      },
      "execution_count": null,
      "outputs": []
    },
    {
      "cell_type": "code",
      "source": [
        "compound_sales_growth=dfs[2]"
      ],
      "metadata": {
        "id": "g_vjMhoGN3at"
      },
      "execution_count": null,
      "outputs": []
    },
    {
      "cell_type": "code",
      "source": [
        "compound_profit_growth=dfs[3]"
      ],
      "metadata": {
        "id": "SUcsRCydOPps"
      },
      "execution_count": null,
      "outputs": []
    },
    {
      "cell_type": "code",
      "source": [
        "stock_price_cagr=dfs[4]"
      ],
      "metadata": {
        "id": "HlMYcCYZOWeX"
      },
      "execution_count": null,
      "outputs": []
    },
    {
      "cell_type": "code",
      "source": [
        "return_on_equity=dfs[5]"
      ],
      "metadata": {
        "id": "OxAKzQ0DOfLE"
      },
      "execution_count": null,
      "outputs": []
    },
    {
      "cell_type": "code",
      "source": [
        "balance_sheet=dfs[6]"
      ],
      "metadata": {
        "id": "oMb3GLGvOlpD"
      },
      "execution_count": null,
      "outputs": []
    },
    {
      "cell_type": "code",
      "source": [
        "cash_flow=dfs[7]"
      ],
      "metadata": {
        "id": "7eyGxcnBOq05"
      },
      "execution_count": null,
      "outputs": []
    },
    {
      "cell_type": "code",
      "source": [
        "ROE=dfs[8]"
      ],
      "metadata": {
        "id": "Le3ouOGAOv4t"
      },
      "execution_count": null,
      "outputs": []
    },
    {
      "cell_type": "code",
      "source": [
        "shareholding_quarterly=dfs[9]"
      ],
      "metadata": {
        "id": "5tN4Ay0ZO03e"
      },
      "execution_count": null,
      "outputs": []
    },
    {
      "cell_type": "code",
      "source": [
        "sharehoding_yearly=dfs[10]"
      ],
      "metadata": {
        "id": "dNF_OYz0O3e_"
      },
      "execution_count": null,
      "outputs": []
    },
    {
      "cell_type": "code",
      "source": [],
      "metadata": {
        "id": "1X3m1VbJPAe2"
      },
      "execution_count": null,
      "outputs": []
    },
    {
      "cell_type": "code",
      "source": [
        "json_data = balance_sheet.to_json(orient='records')"
      ],
      "metadata": {
        "id": "70cP9p0BPDJu"
      },
      "execution_count": null,
      "outputs": []
    },
    {
      "cell_type": "code",
      "source": [
        "json_data"
      ],
      "metadata": {
        "id": "tOJK1OECPjND",
        "outputId": "b78725e0-98d7-4a04-9f28-468723d8eca9",
        "colab": {
          "base_uri": "https://localhost:8080/",
          "height": 244
        }
      },
      "execution_count": null,
      "outputs": [
        {
          "output_type": "execute_result",
          "data": {
            "text/plain": [
              "'[{\"Unnamed: 0\":\"Share Capital\\\\u00a0+\",\"Mar 2012\":171,\"Mar 2013\":171,\"Mar 2014\":171,\"Mar 2015\":171,\"Mar 2016\":344,\"Mar 2017\":345,\"Mar 2018\":394,\"Mar 2019\":397,\"Mar 2020\":399,\"Mar 2021\":399,\"Mar 2022\":421,\"Mar 2023\":null},{\"Unnamed: 0\":\"Reserves\",\"Mar 2012\":5421,\"Mar 2013\":6093,\"Mar 2014\":6690,\"Mar 2015\":7529,\"Mar 2016\":7720,\"Mar 2017\":8607,\"Mar 2018\":11880,\"Mar 2019\":13101,\"Mar 2020\":14424,\"Mar 2021\":16105,\"Mar 2022\":18835,\"Mar 2023\":null},{\"Unnamed: 0\":\"Borrowings\\\\u00a0+\",\"Mar 2012\":53201,\"Mar 2013\":62850,\"Mar 2014\":65497,\"Mar 2015\":73216,\"Mar 2016\":84407,\"Mar 2017\":104008,\"Mar 2018\":124299,\"Mar 2019\":143585,\"Mar 2020\":164780,\"Mar 2021\":184457,\"Mar 2022\":201265,\"Mar 2023\":null},{\"Unnamed: 0\":\"Other Liabilities\\\\u00a0+\",\"Mar 2012\":1751,\"Mar 2013\":1879,\"Mar 2014\":2286,\"Mar 2015\":1993,\"Mar 2016\":2234,\"Mar 2017\":2527,\"Mar 2018\":2640,\"Mar 2019\":3469,\"Mar 2020\":3751,\"Mar 2021\":4006,\"Mar 2022\":5721,\"Mar 2023\":null},{\"Unnamed: 0\":\"Total Liabilities\",\"Mar 2012\":60544,\"Mar 2013\":70993,\"Mar 2014\":74643,\"Mar 2015\":82909,\"Mar 2016\":94706,\"Mar 2017\":115486,\"Mar 2018\":139214,\"Mar 2019\":160552,\"Mar 2020\":183353,\"Mar 2021\":204967,\"Mar 2022\":226241,\"Mar 2023\":null},{\"Unnamed: 0\":\"Fixed Assets\\\\u00a0+\",\"Mar 2012\":337,\"Mar 2013\":412,\"Mar 2014\":414,\"Mar 2015\":446,\"Mar 2016\":508,\"Mar 2017\":477,\"Mar 2018\":452,\"Mar 2019\":462,\"Mar 2020\":477,\"Mar 2021\":504,\"Mar 2022\":643,\"Mar 2023\":null},{\"Unnamed: 0\":\"CWIP\",\"Mar 2012\":0,\"Mar 2013\":2,\"Mar 2014\":23,\"Mar 2015\":27,\"Mar 2016\":16,\"Mar 2017\":15,\"Mar 2018\":10,\"Mar 2019\":18,\"Mar 2020\":28,\"Mar 2021\":13,\"Mar 2022\":29,\"Mar 2023\":null},{\"Unnamed: 0\":\"Investments\",\"Mar 2012\":17102,\"Mar 2013\":20854,\"Mar 2014\":23839,\"Mar 2015\":20349,\"Mar 2016\":24920,\"Mar 2017\":27912,\"Mar 2018\":30595,\"Mar 2019\":31676,\"Mar 2020\":35715,\"Mar 2021\":36732,\"Mar 2022\":39065,\"Mar 2023\":null},{\"Unnamed: 0\":\"Other Assets\\\\u00a0+\",\"Mar 2012\":43105,\"Mar 2013\":49724,\"Mar 2014\":50368,\"Mar 2015\":62087,\"Mar 2016\":69262,\"Mar 2017\":87081,\"Mar 2018\":108158,\"Mar 2019\":128397,\"Mar 2020\":147133,\"Mar 2021\":167717,\"Mar 2022\":186504,\"Mar 2023\":null},{\"Unnamed: 0\":\"Total Assets\",\"Mar 2012\":60544,\"Mar 2013\":70993,\"Mar 2014\":74643,\"Mar 2015\":82909,\"Mar 2016\":94706,\"Mar 2017\":115486,\"Mar 2018\":139214,\"Mar 2019\":160552,\"Mar 2020\":183353,\"Mar 2021\":204967,\"Mar 2022\":226241,\"Mar 2023\":null}]'"
            ],
            "application/vnd.google.colaboratory.intrinsic+json": {
              "type": "string"
            }
          },
          "metadata": {},
          "execution_count": 39
        }
      ]
    },
    {
      "cell_type": "code",
      "source": [],
      "metadata": {
        "id": "uNi6laNzPkW6"
      },
      "execution_count": null,
      "outputs": []
    }
  ]
}