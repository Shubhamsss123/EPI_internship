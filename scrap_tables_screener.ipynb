{
 "cells": [
  {
   "cell_type": "code",
   "execution_count": 1,
   "metadata": {
    "id": "nO4qtfwhMHTU"
   },
   "outputs": [],
   "source": [
    "import pandas as pd\n",
    "import requests\n",
    "import numpy as np"
   ]
  },
  {
   "cell_type": "code",
   "execution_count": 2,
   "metadata": {
    "id": "8OD-kaLsMLOh"
   },
   "outputs": [],
   "source": [
    "\n",
    "# URL of the website containing the table\n",
    "url = 'https://www.screener.in/company/FEDERALBNK/consolidated/'\n",
    "\n",
    "# Read HTML tables into a list of DataFrame objects\n",
    "dfs = pd.read_html(url)\n",
    "\n",
    "\n",
    "\n",
    "\n",
    "# Print the extracted DataFrame\n"
   ]
  },
  {
   "cell_type": "code",
   "execution_count": 5,
   "metadata": {},
   "outputs": [
    {
     "data": {
      "text/plain": [
       "11"
      ]
     },
     "execution_count": 5,
     "metadata": {},
     "output_type": "execute_result"
    }
   ],
   "source": [
    "len(dfs)"
   ]
  },
  {
   "cell_type": "code",
   "execution_count": 3,
   "metadata": {
    "id": "QJiSozESMyZr"
   },
   "outputs": [],
   "source": [
    "quaterly_results=dfs[0]"
   ]
  },
  {
   "cell_type": "code",
   "execution_count": 4,
   "metadata": {},
   "outputs": [
    {
     "data": {
      "text/html": [
       "<div>\n",
       "<style scoped>\n",
       "    .dataframe tbody tr th:only-of-type {\n",
       "        vertical-align: middle;\n",
       "    }\n",
       "\n",
       "    .dataframe tbody tr th {\n",
       "        vertical-align: top;\n",
       "    }\n",
       "\n",
       "    .dataframe thead th {\n",
       "        text-align: right;\n",
       "    }\n",
       "</style>\n",
       "<table border=\"1\" class=\"dataframe\">\n",
       "  <thead>\n",
       "    <tr style=\"text-align: right;\">\n",
       "      <th></th>\n",
       "      <th>Unnamed: 0</th>\n",
       "      <th>Jun 2020</th>\n",
       "      <th>Sep 2020</th>\n",
       "      <th>Dec 2020</th>\n",
       "      <th>Mar 2021</th>\n",
       "      <th>Jun 2021</th>\n",
       "      <th>Sep 2021</th>\n",
       "      <th>Dec 2021</th>\n",
       "      <th>Mar 2022</th>\n",
       "      <th>Jun 2022</th>\n",
       "      <th>Sep 2022</th>\n",
       "      <th>Dec 2022</th>\n",
       "      <th>Mar 2023</th>\n",
       "      <th>Jun 2023</th>\n",
       "    </tr>\n",
       "  </thead>\n",
       "  <tbody>\n",
       "    <tr>\n",
       "      <th>0</th>\n",
       "      <td>Revenue</td>\n",
       "      <td>3572</td>\n",
       "      <td>3622</td>\n",
       "      <td>3604</td>\n",
       "      <td>3516</td>\n",
       "      <td>3525</td>\n",
       "      <td>3566</td>\n",
       "      <td>3604</td>\n",
       "      <td>3686</td>\n",
       "      <td>3843</td>\n",
       "      <td>4259</td>\n",
       "      <td>4698</td>\n",
       "      <td>5012</td>\n",
       "      <td>5350</td>\n",
       "    </tr>\n",
       "    <tr>\n",
       "      <th>1</th>\n",
       "      <td>Interest</td>\n",
       "      <td>2197</td>\n",
       "      <td>2159</td>\n",
       "      <td>2076</td>\n",
       "      <td>2003</td>\n",
       "      <td>2000</td>\n",
       "      <td>1959</td>\n",
       "      <td>1970</td>\n",
       "      <td>2030</td>\n",
       "      <td>2104</td>\n",
       "      <td>2349</td>\n",
       "      <td>2585</td>\n",
       "      <td>2938</td>\n",
       "      <td>3255</td>\n",
       "    </tr>\n",
       "    <tr>\n",
       "      <th>2</th>\n",
       "      <td>Expenses +</td>\n",
       "      <td>1305</td>\n",
       "      <td>1493</td>\n",
       "      <td>1444</td>\n",
       "      <td>1333</td>\n",
       "      <td>1562</td>\n",
       "      <td>1445</td>\n",
       "      <td>1431</td>\n",
       "      <td>1363</td>\n",
       "      <td>1351</td>\n",
       "      <td>1541</td>\n",
       "      <td>1544</td>\n",
       "      <td>1574</td>\n",
       "      <td>1634</td>\n",
       "    </tr>\n",
       "    <tr>\n",
       "      <th>3</th>\n",
       "      <td>Financing Profit</td>\n",
       "      <td>70</td>\n",
       "      <td>-30</td>\n",
       "      <td>85</td>\n",
       "      <td>180</td>\n",
       "      <td>-37</td>\n",
       "      <td>162</td>\n",
       "      <td>203</td>\n",
       "      <td>294</td>\n",
       "      <td>388</td>\n",
       "      <td>369</td>\n",
       "      <td>569</td>\n",
       "      <td>500</td>\n",
       "      <td>461</td>\n",
       "    </tr>\n",
       "    <tr>\n",
       "      <th>4</th>\n",
       "      <td>Financing Margin %</td>\n",
       "      <td>2%</td>\n",
       "      <td>-1%</td>\n",
       "      <td>2%</td>\n",
       "      <td>5%</td>\n",
       "      <td>-1%</td>\n",
       "      <td>5%</td>\n",
       "      <td>6%</td>\n",
       "      <td>8%</td>\n",
       "      <td>10%</td>\n",
       "      <td>9%</td>\n",
       "      <td>12%</td>\n",
       "      <td>10%</td>\n",
       "      <td>9%</td>\n",
       "    </tr>\n",
       "    <tr>\n",
       "      <th>5</th>\n",
       "      <td>Other Income +</td>\n",
       "      <td>483</td>\n",
       "      <td>449</td>\n",
       "      <td>478</td>\n",
       "      <td>493</td>\n",
       "      <td>524</td>\n",
       "      <td>494</td>\n",
       "      <td>521</td>\n",
       "      <td>484</td>\n",
       "      <td>475</td>\n",
       "      <td>628</td>\n",
       "      <td>565</td>\n",
       "      <td>768</td>\n",
       "      <td>741</td>\n",
       "    </tr>\n",
       "    <tr>\n",
       "      <th>6</th>\n",
       "      <td>Depreciation</td>\n",
       "      <td>-0</td>\n",
       "      <td>-0</td>\n",
       "      <td>-0</td>\n",
       "      <td>-0</td>\n",
       "      <td>-0</td>\n",
       "      <td>-0</td>\n",
       "      <td>-0</td>\n",
       "      <td>-0</td>\n",
       "      <td>-0</td>\n",
       "      <td>-0</td>\n",
       "      <td>-0</td>\n",
       "      <td>-0</td>\n",
       "      <td>-0</td>\n",
       "    </tr>\n",
       "    <tr>\n",
       "      <th>7</th>\n",
       "      <td>Profit before tax</td>\n",
       "      <td>554</td>\n",
       "      <td>419</td>\n",
       "      <td>563</td>\n",
       "      <td>673</td>\n",
       "      <td>487</td>\n",
       "      <td>657</td>\n",
       "      <td>725</td>\n",
       "      <td>778</td>\n",
       "      <td>863</td>\n",
       "      <td>997</td>\n",
       "      <td>1134</td>\n",
       "      <td>1269</td>\n",
       "      <td>1202</td>\n",
       "    </tr>\n",
       "    <tr>\n",
       "      <th>8</th>\n",
       "      <td>Tax %</td>\n",
       "      <td>26%</td>\n",
       "      <td>25%</td>\n",
       "      <td>25%</td>\n",
       "      <td>26%</td>\n",
       "      <td>27%</td>\n",
       "      <td>26%</td>\n",
       "      <td>25%</td>\n",
       "      <td>25%</td>\n",
       "      <td>26%</td>\n",
       "      <td>26%</td>\n",
       "      <td>25%</td>\n",
       "      <td>26%</td>\n",
       "      <td>26%</td>\n",
       "    </tr>\n",
       "    <tr>\n",
       "      <th>9</th>\n",
       "      <td>Net Profit +</td>\n",
       "      <td>413</td>\n",
       "      <td>317</td>\n",
       "      <td>422</td>\n",
       "      <td>527</td>\n",
       "      <td>361</td>\n",
       "      <td>493</td>\n",
       "      <td>544</td>\n",
       "      <td>599</td>\n",
       "      <td>645</td>\n",
       "      <td>745</td>\n",
       "      <td>856</td>\n",
       "      <td>964</td>\n",
       "      <td>894</td>\n",
       "    </tr>\n",
       "    <tr>\n",
       "      <th>10</th>\n",
       "      <td>EPS in Rs</td>\n",
       "      <td>2.05</td>\n",
       "      <td>1.58</td>\n",
       "      <td>2.10</td>\n",
       "      <td>2.61</td>\n",
       "      <td>1.79</td>\n",
       "      <td>2.31</td>\n",
       "      <td>2.57</td>\n",
       "      <td>2.79</td>\n",
       "      <td>3.02</td>\n",
       "      <td>3.48</td>\n",
       "      <td>3.99</td>\n",
       "      <td>4.51</td>\n",
       "      <td>4.16</td>\n",
       "    </tr>\n",
       "    <tr>\n",
       "      <th>11</th>\n",
       "      <td>Gross NPA %</td>\n",
       "      <td>2.94%</td>\n",
       "      <td>2.80%</td>\n",
       "      <td>2.67%</td>\n",
       "      <td>3.35%</td>\n",
       "      <td>3.51%</td>\n",
       "      <td>3.22%</td>\n",
       "      <td>3.10%</td>\n",
       "      <td>2.78%</td>\n",
       "      <td>2.67%</td>\n",
       "      <td>2.45%</td>\n",
       "      <td>2.42%</td>\n",
       "      <td>2.35%</td>\n",
       "      <td>2.37%</td>\n",
       "    </tr>\n",
       "    <tr>\n",
       "      <th>12</th>\n",
       "      <td>Net NPA %</td>\n",
       "      <td>1.23%</td>\n",
       "      <td>0.99%</td>\n",
       "      <td>0.61%</td>\n",
       "      <td>1.18%</td>\n",
       "      <td>1.28%</td>\n",
       "      <td>1.15%</td>\n",
       "      <td>1.11%</td>\n",
       "      <td>0.98%</td>\n",
       "      <td>0.96%</td>\n",
       "      <td>0.82%</td>\n",
       "      <td>0.77%</td>\n",
       "      <td>0.73%</td>\n",
       "      <td>0.74%</td>\n",
       "    </tr>\n",
       "    <tr>\n",
       "      <th>13</th>\n",
       "      <td>Raw PDF</td>\n",
       "      <td>NaN</td>\n",
       "      <td>NaN</td>\n",
       "      <td>NaN</td>\n",
       "      <td>NaN</td>\n",
       "      <td>NaN</td>\n",
       "      <td>NaN</td>\n",
       "      <td>NaN</td>\n",
       "      <td>NaN</td>\n",
       "      <td>NaN</td>\n",
       "      <td>NaN</td>\n",
       "      <td>NaN</td>\n",
       "      <td>NaN</td>\n",
       "      <td>NaN</td>\n",
       "    </tr>\n",
       "  </tbody>\n",
       "</table>\n",
       "</div>"
      ],
      "text/plain": [
       "            Unnamed: 0 Jun 2020 Sep 2020 Dec 2020 Mar 2021 Jun 2021 Sep 2021  \\\n",
       "0              Revenue     3572     3622     3604     3516     3525     3566   \n",
       "1             Interest     2197     2159     2076     2003     2000     1959   \n",
       "2           Expenses +     1305     1493     1444     1333     1562     1445   \n",
       "3     Financing Profit       70      -30       85      180      -37      162   \n",
       "4   Financing Margin %       2%      -1%       2%       5%      -1%       5%   \n",
       "5       Other Income +      483      449      478      493      524      494   \n",
       "6         Depreciation       -0       -0       -0       -0       -0       -0   \n",
       "7    Profit before tax      554      419      563      673      487      657   \n",
       "8                Tax %      26%      25%      25%      26%      27%      26%   \n",
       "9         Net Profit +      413      317      422      527      361      493   \n",
       "10           EPS in Rs     2.05     1.58     2.10     2.61     1.79     2.31   \n",
       "11         Gross NPA %    2.94%    2.80%    2.67%    3.35%    3.51%    3.22%   \n",
       "12           Net NPA %    1.23%    0.99%    0.61%    1.18%    1.28%    1.15%   \n",
       "13             Raw PDF      NaN      NaN      NaN      NaN      NaN      NaN   \n",
       "\n",
       "   Dec 2021 Mar 2022 Jun 2022 Sep 2022 Dec 2022 Mar 2023 Jun 2023  \n",
       "0      3604     3686     3843     4259     4698     5012     5350  \n",
       "1      1970     2030     2104     2349     2585     2938     3255  \n",
       "2      1431     1363     1351     1541     1544     1574     1634  \n",
       "3       203      294      388      369      569      500      461  \n",
       "4        6%       8%      10%       9%      12%      10%       9%  \n",
       "5       521      484      475      628      565      768      741  \n",
       "6        -0       -0       -0       -0       -0       -0       -0  \n",
       "7       725      778      863      997     1134     1269     1202  \n",
       "8       25%      25%      26%      26%      25%      26%      26%  \n",
       "9       544      599      645      745      856      964      894  \n",
       "10     2.57     2.79     3.02     3.48     3.99     4.51     4.16  \n",
       "11    3.10%    2.78%    2.67%    2.45%    2.42%    2.35%    2.37%  \n",
       "12    1.11%    0.98%    0.96%    0.82%    0.77%    0.73%    0.74%  \n",
       "13      NaN      NaN      NaN      NaN      NaN      NaN      NaN  "
      ]
     },
     "execution_count": 4,
     "metadata": {},
     "output_type": "execute_result"
    }
   ],
   "source": [
    "quaterly_results"
   ]
  },
  {
   "cell_type": "code",
   "execution_count": null,
   "metadata": {
    "id": "PEgkU57AMsQ6"
   },
   "outputs": [],
   "source": [
    "profit_loss=dfs[1]"
   ]
  },
  {
   "cell_type": "code",
   "execution_count": null,
   "metadata": {
    "id": "g_vjMhoGN3at"
   },
   "outputs": [],
   "source": [
    "compound_sales_growth=dfs[2]"
   ]
  },
  {
   "cell_type": "code",
   "execution_count": null,
   "metadata": {
    "id": "SUcsRCydOPps"
   },
   "outputs": [],
   "source": [
    "compound_profit_growth=dfs[3]"
   ]
  },
  {
   "cell_type": "code",
   "execution_count": null,
   "metadata": {
    "id": "HlMYcCYZOWeX"
   },
   "outputs": [],
   "source": [
    "stock_price_cagr=dfs[4]"
   ]
  },
  {
   "cell_type": "code",
   "execution_count": null,
   "metadata": {
    "id": "OxAKzQ0DOfLE"
   },
   "outputs": [],
   "source": [
    "return_on_equity=dfs[5]"
   ]
  },
  {
   "cell_type": "code",
   "execution_count": null,
   "metadata": {
    "id": "oMb3GLGvOlpD"
   },
   "outputs": [],
   "source": [
    "balance_sheet=dfs[6]"
   ]
  },
  {
   "cell_type": "code",
   "execution_count": null,
   "metadata": {
    "id": "7eyGxcnBOq05"
   },
   "outputs": [],
   "source": [
    "cash_flow=dfs[7]"
   ]
  },
  {
   "cell_type": "code",
   "execution_count": null,
   "metadata": {
    "id": "Le3ouOGAOv4t"
   },
   "outputs": [],
   "source": [
    "ROE=dfs[8]"
   ]
  },
  {
   "cell_type": "code",
   "execution_count": null,
   "metadata": {
    "id": "5tN4Ay0ZO03e"
   },
   "outputs": [],
   "source": [
    "shareholding_quarterly=dfs[9]"
   ]
  },
  {
   "cell_type": "code",
   "execution_count": null,
   "metadata": {
    "id": "dNF_OYz0O3e_"
   },
   "outputs": [],
   "source": [
    "sharehoding_yearly=dfs[10]"
   ]
  },
  {
   "cell_type": "code",
   "execution_count": null,
   "metadata": {
    "id": "1X3m1VbJPAe2"
   },
   "outputs": [],
   "source": []
  },
  {
   "cell_type": "code",
   "execution_count": null,
   "metadata": {
    "id": "70cP9p0BPDJu"
   },
   "outputs": [],
   "source": [
    "json_data = balance_sheet.to_json(orient='records')"
   ]
  },
  {
   "cell_type": "code",
   "execution_count": null,
   "metadata": {
    "colab": {
     "base_uri": "https://localhost:8080/",
     "height": 244
    },
    "id": "tOJK1OECPjND",
    "outputId": "b78725e0-98d7-4a04-9f28-468723d8eca9"
   },
   "outputs": [
    {
     "data": {
      "application/vnd.google.colaboratory.intrinsic+json": {
       "type": "string"
      },
      "text/plain": [
       "'[{\"Unnamed: 0\":\"Share Capital\\\\u00a0+\",\"Mar 2012\":171,\"Mar 2013\":171,\"Mar 2014\":171,\"Mar 2015\":171,\"Mar 2016\":344,\"Mar 2017\":345,\"Mar 2018\":394,\"Mar 2019\":397,\"Mar 2020\":399,\"Mar 2021\":399,\"Mar 2022\":421,\"Mar 2023\":null},{\"Unnamed: 0\":\"Reserves\",\"Mar 2012\":5421,\"Mar 2013\":6093,\"Mar 2014\":6690,\"Mar 2015\":7529,\"Mar 2016\":7720,\"Mar 2017\":8607,\"Mar 2018\":11880,\"Mar 2019\":13101,\"Mar 2020\":14424,\"Mar 2021\":16105,\"Mar 2022\":18835,\"Mar 2023\":null},{\"Unnamed: 0\":\"Borrowings\\\\u00a0+\",\"Mar 2012\":53201,\"Mar 2013\":62850,\"Mar 2014\":65497,\"Mar 2015\":73216,\"Mar 2016\":84407,\"Mar 2017\":104008,\"Mar 2018\":124299,\"Mar 2019\":143585,\"Mar 2020\":164780,\"Mar 2021\":184457,\"Mar 2022\":201265,\"Mar 2023\":null},{\"Unnamed: 0\":\"Other Liabilities\\\\u00a0+\",\"Mar 2012\":1751,\"Mar 2013\":1879,\"Mar 2014\":2286,\"Mar 2015\":1993,\"Mar 2016\":2234,\"Mar 2017\":2527,\"Mar 2018\":2640,\"Mar 2019\":3469,\"Mar 2020\":3751,\"Mar 2021\":4006,\"Mar 2022\":5721,\"Mar 2023\":null},{\"Unnamed: 0\":\"Total Liabilities\",\"Mar 2012\":60544,\"Mar 2013\":70993,\"Mar 2014\":74643,\"Mar 2015\":82909,\"Mar 2016\":94706,\"Mar 2017\":115486,\"Mar 2018\":139214,\"Mar 2019\":160552,\"Mar 2020\":183353,\"Mar 2021\":204967,\"Mar 2022\":226241,\"Mar 2023\":null},{\"Unnamed: 0\":\"Fixed Assets\\\\u00a0+\",\"Mar 2012\":337,\"Mar 2013\":412,\"Mar 2014\":414,\"Mar 2015\":446,\"Mar 2016\":508,\"Mar 2017\":477,\"Mar 2018\":452,\"Mar 2019\":462,\"Mar 2020\":477,\"Mar 2021\":504,\"Mar 2022\":643,\"Mar 2023\":null},{\"Unnamed: 0\":\"CWIP\",\"Mar 2012\":0,\"Mar 2013\":2,\"Mar 2014\":23,\"Mar 2015\":27,\"Mar 2016\":16,\"Mar 2017\":15,\"Mar 2018\":10,\"Mar 2019\":18,\"Mar 2020\":28,\"Mar 2021\":13,\"Mar 2022\":29,\"Mar 2023\":null},{\"Unnamed: 0\":\"Investments\",\"Mar 2012\":17102,\"Mar 2013\":20854,\"Mar 2014\":23839,\"Mar 2015\":20349,\"Mar 2016\":24920,\"Mar 2017\":27912,\"Mar 2018\":30595,\"Mar 2019\":31676,\"Mar 2020\":35715,\"Mar 2021\":36732,\"Mar 2022\":39065,\"Mar 2023\":null},{\"Unnamed: 0\":\"Other Assets\\\\u00a0+\",\"Mar 2012\":43105,\"Mar 2013\":49724,\"Mar 2014\":50368,\"Mar 2015\":62087,\"Mar 2016\":69262,\"Mar 2017\":87081,\"Mar 2018\":108158,\"Mar 2019\":128397,\"Mar 2020\":147133,\"Mar 2021\":167717,\"Mar 2022\":186504,\"Mar 2023\":null},{\"Unnamed: 0\":\"Total Assets\",\"Mar 2012\":60544,\"Mar 2013\":70993,\"Mar 2014\":74643,\"Mar 2015\":82909,\"Mar 2016\":94706,\"Mar 2017\":115486,\"Mar 2018\":139214,\"Mar 2019\":160552,\"Mar 2020\":183353,\"Mar 2021\":204967,\"Mar 2022\":226241,\"Mar 2023\":null}]'"
      ]
     },
     "execution_count": 39,
     "metadata": {},
     "output_type": "execute_result"
    }
   ],
   "source": [
    "json_data"
   ]
  },
  {
   "cell_type": "code",
   "execution_count": null,
   "metadata": {
    "id": "uNi6laNzPkW6"
   },
   "outputs": [],
   "source": []
  }
 ],
 "metadata": {
  "accelerator": "GPU",
  "colab": {
   "gpuType": "T4",
   "provenance": []
  },
  "kernelspec": {
   "display_name": "Python 3 (ipykernel)",
   "language": "python",
   "name": "python3"
  },
  "language_info": {
   "codemirror_mode": {
    "name": "ipython",
    "version": 3
   },
   "file_extension": ".py",
   "mimetype": "text/x-python",
   "name": "python",
   "nbconvert_exporter": "python",
   "pygments_lexer": "ipython3",
   "version": "3.10.9"
  }
 },
 "nbformat": 4,
 "nbformat_minor": 1
}
