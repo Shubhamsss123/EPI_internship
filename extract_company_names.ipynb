{
 "cells": [
  {
   "cell_type": "code",
   "execution_count": 1,
   "metadata": {
    "id": "1pihJ-WniktT"
   },
   "outputs": [],
   "source": [
    "import pandas as pd\n",
    "\n",
    "import numpy as np"
   ]
  },
  {
   "cell_type": "code",
   "execution_count": 2,
   "metadata": {
    "id": "DnjWCPsQvb2X"
   },
   "outputs": [],
   "source": [
    "df=pd.read_csv('screener_companies.csv',usecols=range(1,4))"
   ]
  },
  {
   "cell_type": "code",
   "execution_count": 3,
   "metadata": {
    "colab": {
     "base_uri": "https://localhost:8080/",
     "height": 112
    },
    "id": "xWNFERhpyJId",
    "outputId": "5d77a01c-212e-4f3d-b193-85885e284ca9"
   },
   "outputs": [
    {
     "data": {
      "text/html": [
       "<div>\n",
       "<style scoped>\n",
       "    .dataframe tbody tr th:only-of-type {\n",
       "        vertical-align: middle;\n",
       "    }\n",
       "\n",
       "    .dataframe tbody tr th {\n",
       "        vertical-align: top;\n",
       "    }\n",
       "\n",
       "    .dataframe thead th {\n",
       "        text-align: right;\n",
       "    }\n",
       "</style>\n",
       "<table border=\"1\" class=\"dataframe\">\n",
       "  <thead>\n",
       "    <tr style=\"text-align: right;\">\n",
       "      <th></th>\n",
       "      <th>company name</th>\n",
       "      <th>company_url</th>\n",
       "      <th>screener url</th>\n",
       "    </tr>\n",
       "  </thead>\n",
       "  <tbody>\n",
       "    <tr>\n",
       "      <th>0</th>\n",
       "      <td>RELIANCE</td>\n",
       "      <td>/company/RELIANCE/consolidated/</td>\n",
       "      <td>https://www.screener.in/company/RELIANCE/conso...</td>\n",
       "    </tr>\n",
       "    <tr>\n",
       "      <th>1</th>\n",
       "      <td>TCS</td>\n",
       "      <td>/company/TCS/consolidated/</td>\n",
       "      <td>https://www.screener.in/company/TCS/consolidated/</td>\n",
       "    </tr>\n",
       "  </tbody>\n",
       "</table>\n",
       "</div>"
      ],
      "text/plain": [
       "  company name                      company_url  \\\n",
       "0     RELIANCE  /company/RELIANCE/consolidated/   \n",
       "1          TCS       /company/TCS/consolidated/   \n",
       "\n",
       "                                        screener url  \n",
       "0  https://www.screener.in/company/RELIANCE/conso...  \n",
       "1  https://www.screener.in/company/TCS/consolidated/  "
      ]
     },
     "execution_count": 3,
     "metadata": {},
     "output_type": "execute_result"
    }
   ],
   "source": [
    "df.head(2)"
   ]
  },
  {
   "cell_type": "code",
   "execution_count": 4,
   "metadata": {
    "id": "jhGFVgwoFR-f"
   },
   "outputs": [],
   "source": [
    "def is_company(name):\n",
    "  try :\n",
    "    int(name)\n",
    "\n",
    "    return False\n",
    "  except:\n",
    "    return True"
   ]
  },
  {
   "cell_type": "code",
   "execution_count": 5,
   "metadata": {
    "colab": {
     "base_uri": "https://localhost:8080/"
    },
    "id": "A64WM44pFnyg",
    "outputId": "13e6a78a-40ec-43da-e189-5322304f7955"
   },
   "outputs": [
    {
     "data": {
      "text/plain": [
       "False"
      ]
     },
     "execution_count": 5,
     "metadata": {},
     "output_type": "execute_result"
    }
   ],
   "source": [
    "is_company('12')"
   ]
  },
  {
   "cell_type": "code",
   "execution_count": 6,
   "metadata": {
    "id": "h0dsjUl5Fqj2"
   },
   "outputs": [],
   "source": [
    "df['is_company']=df['company name'].apply(is_company)"
   ]
  },
  {
   "cell_type": "code",
   "execution_count": 7,
   "metadata": {
    "id": "zYMWY4-HHtKJ"
   },
   "outputs": [],
   "source": [
    "not_companies=df[df['is_company']==False]['screener url']"
   ]
  },
  {
   "cell_type": "code",
   "execution_count": 8,
   "metadata": {
    "id": "hMbi5T17IiaL"
   },
   "outputs": [],
   "source": [
    "url_arr=np.array(not_companies)"
   ]
  },
  {
   "cell_type": "code",
   "execution_count": 9,
   "metadata": {
    "colab": {
     "base_uri": "https://localhost:8080/",
     "height": 36
    },
    "id": "FFE1q6X6Ht03",
    "outputId": "1fc1de28-5a16-4e4a-b0a0-9076185a7ce6"
   },
   "outputs": [
    {
     "data": {
      "text/plain": [
       "'https://www.screener.in/company/543482/consolidated/'"
      ]
     },
     "execution_count": 9,
     "metadata": {},
     "output_type": "execute_result"
    }
   ],
   "source": [
    "url_arr[0]"
   ]
  },
  {
   "cell_type": "code",
   "execution_count": 13,
   "metadata": {
    "id": "WIgdrEDhH_ri"
   },
   "outputs": [],
   "source": [
    "import requests\n",
    "from bs4 import BeautifulSoup"
   ]
  },
  {
   "cell_type": "code",
   "execution_count": 16,
   "metadata": {},
   "outputs": [
    {
     "data": {
      "text/plain": [
       "<Response [200]>"
      ]
     },
     "execution_count": 16,
     "metadata": {},
     "output_type": "execute_result"
    }
   ],
   "source": [
    "requests.get(url_arr[0])"
   ]
  },
  {
   "cell_type": "code",
   "execution_count": 22,
   "metadata": {
    "colab": {
     "base_uri": "https://localhost:8080/",
     "height": 1000
    },
    "id": "_JDp74trJQRh",
    "outputId": "b7d68641-dfa2-46dc-d71e-fa9b40bfd4a7",
    "scrolled": true
   },
   "outputs": [
    {
     "name": "stdout",
     "output_type": "stream",
     "text": [
      "Eureka Forbes\n",
      "National Standar\n",
      "Kama Holdings\n"
     ]
    }
   ],
   "source": [
    "\n",
    "c_count=0\n",
    "for i in url_arr[:3]:\n",
    "  name=BeautifulSoup(requests.get(i).content,'html.parser').find_all('span')[1].text.strip()\n",
    "  print(name)\n",
    "\n"
   ]
  },
  {
   "cell_type": "code",
   "execution_count": 34,
   "metadata": {},
   "outputs": [],
   "source": [
    "trial_url=url_arr[:10]"
   ]
  },
  {
   "cell_type": "code",
   "execution_count": 35,
   "metadata": {
    "colab": {
     "base_uri": "https://localhost:8080/"
    },
    "id": "XvCZL2JcRRLm",
    "outputId": "c82b241d-9787-4e92-c154-832b4a410777"
   },
   "outputs": [
    {
     "name": "stdout",
     "output_type": "stream",
     "text": [
      "0 Eureka Forbes Ltd\n",
      "1 National Standard (India) Ltd\n",
      "2 Kama Holdings Ltd\n",
      "3 India Infrastructure Trust\n",
      "4 Authum Investment & Infrastructure Ltd\n",
      "5 Bengal & Assam Company Ltd\n",
      "6 Sindhu Trade Links Ltd\n",
      "7 Sandur Manganese & Iron Ores Ltd\n",
      "8 WPIL Ltd\n",
      "9 Magellanic Cloud Ltd\n"
     ]
    }
   ],
   "source": [
    "from bs4 import BeautifulSoup as B\n",
    "c_arr=[]\n",
    "import requests\n",
    "for i in range(len(trial_url)):\n",
    "\n",
    "    name=B(requests.get(trial_url[i]).content,'html.parser').find_all('h1')[0].text.strip()\n",
    "    c_arr.append(name)\n",
    "    print(i,name,sep=' ')"
   ]
  },
  {
   "cell_type": "code",
   "execution_count": 38,
   "metadata": {
    "colab": {
     "base_uri": "https://localhost:8080/"
    },
    "id": "4UK0p5u7eTLo",
    "outputId": "b511e652-4b4b-423c-c700-fe7f0ada6bb3"
   },
   "outputs": [
    {
     "data": {
      "text/plain": [
       "10"
      ]
     },
     "execution_count": 38,
     "metadata": {},
     "output_type": "execute_result"
    }
   ],
   "source": [
    "len(trial_url)"
   ]
  },
  {
   "cell_type": "code",
   "execution_count": 39,
   "metadata": {
    "colab": {
     "base_uri": "https://localhost:8080/"
    },
    "id": "Gkp9B9owmL3z",
    "outputId": "1ed537a9-2659-408c-d671-fef1f4c2d346"
   },
   "outputs": [
    {
     "data": {
      "text/plain": [
       "10"
      ]
     },
     "execution_count": 39,
     "metadata": {},
     "output_type": "execute_result"
    }
   ],
   "source": [
    "len(c_arr)"
   ]
  },
  {
   "cell_type": "code",
   "execution_count": 40,
   "metadata": {
    "id": "nLkU5A9Rmv9B"
   },
   "outputs": [],
   "source": [
    "df_num=df[df['is_company']==False]"
   ]
  },
  {
   "cell_type": "code",
   "execution_count": 43,
   "metadata": {
    "colab": {
     "base_uri": "https://localhost:8080/"
    },
    "id": "ROSOyWvKm5Ni",
    "outputId": "126d7553-9ba9-429e-b748-54cebe04fa9f"
   },
   "outputs": [],
   "source": [
    "df_num=df_num.iloc[:10,:]"
   ]
  },
  {
   "cell_type": "code",
   "execution_count": 44,
   "metadata": {},
   "outputs": [
    {
     "data": {
      "text/plain": [
       "(10, 4)"
      ]
     },
     "execution_count": 44,
     "metadata": {},
     "output_type": "execute_result"
    }
   ],
   "source": [
    "df_num.shape"
   ]
  },
  {
   "cell_type": "code",
   "execution_count": 45,
   "metadata": {
    "id": "G7PnUiw2m6GQ"
   },
   "outputs": [],
   "source": [
    "num_name=np.array(c_arr)"
   ]
  },
  {
   "cell_type": "code",
   "execution_count": 46,
   "metadata": {
    "colab": {
     "base_uri": "https://localhost:8080/"
    },
    "id": "xWHsTxi6nB2C",
    "outputId": "ce3d0559-007f-4bab-a808-dec7eee966b7"
   },
   "outputs": [],
   "source": [
    "df_num['company']=num_name"
   ]
  },
  {
   "cell_type": "code",
   "execution_count": 47,
   "metadata": {
    "colab": {
     "base_uri": "https://localhost:8080/",
     "height": 423
    },
    "id": "ZTtnDdnXnHie",
    "outputId": "92699a8b-6960-4769-ed84-44979c479d41"
   },
   "outputs": [
    {
     "data": {
      "text/html": [
       "<div>\n",
       "<style scoped>\n",
       "    .dataframe tbody tr th:only-of-type {\n",
       "        vertical-align: middle;\n",
       "    }\n",
       "\n",
       "    .dataframe tbody tr th {\n",
       "        vertical-align: top;\n",
       "    }\n",
       "\n",
       "    .dataframe thead th {\n",
       "        text-align: right;\n",
       "    }\n",
       "</style>\n",
       "<table border=\"1\" class=\"dataframe\">\n",
       "  <thead>\n",
       "    <tr style=\"text-align: right;\">\n",
       "      <th></th>\n",
       "      <th>company name</th>\n",
       "      <th>company_url</th>\n",
       "      <th>screener url</th>\n",
       "      <th>is_company</th>\n",
       "      <th>company</th>\n",
       "    </tr>\n",
       "  </thead>\n",
       "  <tbody>\n",
       "    <tr>\n",
       "      <th>341</th>\n",
       "      <td>543482</td>\n",
       "      <td>/company/543482/consolidated/</td>\n",
       "      <td>https://www.screener.in/company/543482/consoli...</td>\n",
       "      <td>False</td>\n",
       "      <td>Eureka Forbes Ltd</td>\n",
       "    </tr>\n",
       "    <tr>\n",
       "      <th>369</th>\n",
       "      <td>504882</td>\n",
       "      <td>/company/504882/</td>\n",
       "      <td>https://www.screener.in/company/504882/</td>\n",
       "      <td>False</td>\n",
       "      <td>National Standard (India) Ltd</td>\n",
       "    </tr>\n",
       "    <tr>\n",
       "      <th>421</th>\n",
       "      <td>532468</td>\n",
       "      <td>/company/532468/consolidated/</td>\n",
       "      <td>https://www.screener.in/company/532468/consoli...</td>\n",
       "      <td>False</td>\n",
       "      <td>Kama Holdings Ltd</td>\n",
       "    </tr>\n",
       "    <tr>\n",
       "      <th>471</th>\n",
       "      <td>542543</td>\n",
       "      <td>/company/542543/consolidated/</td>\n",
       "      <td>https://www.screener.in/company/542543/consoli...</td>\n",
       "      <td>False</td>\n",
       "      <td>India Infrastructure Trust</td>\n",
       "    </tr>\n",
       "    <tr>\n",
       "      <th>509</th>\n",
       "      <td>539177</td>\n",
       "      <td>/company/539177/consolidated/</td>\n",
       "      <td>https://www.screener.in/company/539177/consoli...</td>\n",
       "      <td>False</td>\n",
       "      <td>Authum Investment &amp; Infrastructure Ltd</td>\n",
       "    </tr>\n",
       "    <tr>\n",
       "      <th>530</th>\n",
       "      <td>533095</td>\n",
       "      <td>/company/533095/consolidated/</td>\n",
       "      <td>https://www.screener.in/company/533095/consoli...</td>\n",
       "      <td>False</td>\n",
       "      <td>Bengal &amp; Assam Company Ltd</td>\n",
       "    </tr>\n",
       "    <tr>\n",
       "      <th>642</th>\n",
       "      <td>532029</td>\n",
       "      <td>/company/532029/consolidated/</td>\n",
       "      <td>https://www.screener.in/company/532029/consoli...</td>\n",
       "      <td>False</td>\n",
       "      <td>Sindhu Trade Links Ltd</td>\n",
       "    </tr>\n",
       "    <tr>\n",
       "      <th>655</th>\n",
       "      <td>504918</td>\n",
       "      <td>/company/504918/</td>\n",
       "      <td>https://www.screener.in/company/504918/</td>\n",
       "      <td>False</td>\n",
       "      <td>Sandur Manganese &amp; Iron Ores Ltd</td>\n",
       "    </tr>\n",
       "    <tr>\n",
       "      <th>718</th>\n",
       "      <td>505872</td>\n",
       "      <td>/company/505872/consolidated/</td>\n",
       "      <td>https://www.screener.in/company/505872/consoli...</td>\n",
       "      <td>False</td>\n",
       "      <td>WPIL Ltd</td>\n",
       "    </tr>\n",
       "    <tr>\n",
       "      <th>732</th>\n",
       "      <td>538891</td>\n",
       "      <td>/company/538891/consolidated/</td>\n",
       "      <td>https://www.screener.in/company/538891/consoli...</td>\n",
       "      <td>False</td>\n",
       "      <td>Magellanic Cloud Ltd</td>\n",
       "    </tr>\n",
       "  </tbody>\n",
       "</table>\n",
       "</div>"
      ],
      "text/plain": [
       "    company name                    company_url  \\\n",
       "341       543482  /company/543482/consolidated/   \n",
       "369       504882               /company/504882/   \n",
       "421       532468  /company/532468/consolidated/   \n",
       "471       542543  /company/542543/consolidated/   \n",
       "509       539177  /company/539177/consolidated/   \n",
       "530       533095  /company/533095/consolidated/   \n",
       "642       532029  /company/532029/consolidated/   \n",
       "655       504918               /company/504918/   \n",
       "718       505872  /company/505872/consolidated/   \n",
       "732       538891  /company/538891/consolidated/   \n",
       "\n",
       "                                          screener url  is_company  \\\n",
       "341  https://www.screener.in/company/543482/consoli...       False   \n",
       "369            https://www.screener.in/company/504882/       False   \n",
       "421  https://www.screener.in/company/532468/consoli...       False   \n",
       "471  https://www.screener.in/company/542543/consoli...       False   \n",
       "509  https://www.screener.in/company/539177/consoli...       False   \n",
       "530  https://www.screener.in/company/533095/consoli...       False   \n",
       "642  https://www.screener.in/company/532029/consoli...       False   \n",
       "655            https://www.screener.in/company/504918/       False   \n",
       "718  https://www.screener.in/company/505872/consoli...       False   \n",
       "732  https://www.screener.in/company/538891/consoli...       False   \n",
       "\n",
       "                                    company  \n",
       "341                       Eureka Forbes Ltd  \n",
       "369           National Standard (India) Ltd  \n",
       "421                       Kama Holdings Ltd  \n",
       "471              India Infrastructure Trust  \n",
       "509  Authum Investment & Infrastructure Ltd  \n",
       "530              Bengal & Assam Company Ltd  \n",
       "642                  Sindhu Trade Links Ltd  \n",
       "655        Sandur Manganese & Iron Ores Ltd  \n",
       "718                                WPIL Ltd  \n",
       "732                    Magellanic Cloud Ltd  "
      ]
     },
     "execution_count": 47,
     "metadata": {},
     "output_type": "execute_result"
    }
   ],
   "source": [
    "df_num"
   ]
  },
  {
   "cell_type": "code",
   "execution_count": 48,
   "metadata": {
    "colab": {
     "base_uri": "https://localhost:8080/"
    },
    "id": "rhdfjqSZnJli",
    "outputId": "1d7bcff0-9fe2-4602-f486-6fa8d013de88"
   },
   "outputs": [
    {
     "data": {
      "text/plain": [
       "Series([], Name: screener url, dtype: object)"
      ]
     },
     "execution_count": 48,
     "metadata": {},
     "output_type": "execute_result"
    }
   ],
   "source": [
    "df_num[df_num['company name']=='511539']['screener url']"
   ]
  },
  {
   "cell_type": "code",
   "execution_count": 49,
   "metadata": {
    "id": "A67VxjQRnN6J"
   },
   "outputs": [],
   "source": [
    "df_normal=df[df['is_company']==True]"
   ]
  },
  {
   "cell_type": "code",
   "execution_count": 50,
   "metadata": {
    "colab": {
     "base_uri": "https://localhost:8080/",
     "height": 423
    },
    "id": "Kr5gxCvin2uE",
    "outputId": "4b62b0e8-d2d2-4263-f1c8-ebc38e9bb878"
   },
   "outputs": [
    {
     "data": {
      "text/html": [
       "<div>\n",
       "<style scoped>\n",
       "    .dataframe tbody tr th:only-of-type {\n",
       "        vertical-align: middle;\n",
       "    }\n",
       "\n",
       "    .dataframe tbody tr th {\n",
       "        vertical-align: top;\n",
       "    }\n",
       "\n",
       "    .dataframe thead th {\n",
       "        text-align: right;\n",
       "    }\n",
       "</style>\n",
       "<table border=\"1\" class=\"dataframe\">\n",
       "  <thead>\n",
       "    <tr style=\"text-align: right;\">\n",
       "      <th></th>\n",
       "      <th>company name</th>\n",
       "      <th>company_url</th>\n",
       "      <th>screener url</th>\n",
       "      <th>is_company</th>\n",
       "    </tr>\n",
       "  </thead>\n",
       "  <tbody>\n",
       "    <tr>\n",
       "      <th>0</th>\n",
       "      <td>RELIANCE</td>\n",
       "      <td>/company/RELIANCE/consolidated/</td>\n",
       "      <td>https://www.screener.in/company/RELIANCE/conso...</td>\n",
       "      <td>True</td>\n",
       "    </tr>\n",
       "    <tr>\n",
       "      <th>1</th>\n",
       "      <td>TCS</td>\n",
       "      <td>/company/TCS/consolidated/</td>\n",
       "      <td>https://www.screener.in/company/TCS/consolidated/</td>\n",
       "      <td>True</td>\n",
       "    </tr>\n",
       "    <tr>\n",
       "      <th>2</th>\n",
       "      <td>HDFCBANK</td>\n",
       "      <td>/company/HDFCBANK/consolidated/</td>\n",
       "      <td>https://www.screener.in/company/HDFCBANK/conso...</td>\n",
       "      <td>True</td>\n",
       "    </tr>\n",
       "    <tr>\n",
       "      <th>3</th>\n",
       "      <td>ICICIBANK</td>\n",
       "      <td>/company/ICICIBANK/consolidated/</td>\n",
       "      <td>https://www.screener.in/company/ICICIBANK/cons...</td>\n",
       "      <td>True</td>\n",
       "    </tr>\n",
       "    <tr>\n",
       "      <th>4</th>\n",
       "      <td>HINDUNILVR</td>\n",
       "      <td>/company/HINDUNILVR/consolidated/</td>\n",
       "      <td>https://www.screener.in/company/HINDUNILVR/con...</td>\n",
       "      <td>True</td>\n",
       "    </tr>\n",
       "    <tr>\n",
       "      <th>...</th>\n",
       "      <td>...</td>\n",
       "      <td>...</td>\n",
       "      <td>...</td>\n",
       "      <td>...</td>\n",
       "    </tr>\n",
       "    <tr>\n",
       "      <th>4217</th>\n",
       "      <td>RAJVIR</td>\n",
       "      <td>/company/RAJVIR/</td>\n",
       "      <td>https://www.screener.in/company/RAJVIR/</td>\n",
       "      <td>True</td>\n",
       "    </tr>\n",
       "    <tr>\n",
       "      <th>4253</th>\n",
       "      <td>SSLFINANCE</td>\n",
       "      <td>/company/SSLFINANCE/</td>\n",
       "      <td>https://www.screener.in/company/SSLFINANCE/</td>\n",
       "      <td>True</td>\n",
       "    </tr>\n",
       "    <tr>\n",
       "      <th>4269</th>\n",
       "      <td>MADHURFOOD</td>\n",
       "      <td>/company/MADHURFOOD/</td>\n",
       "      <td>https://www.screener.in/company/MADHURFOOD/</td>\n",
       "      <td>True</td>\n",
       "    </tr>\n",
       "    <tr>\n",
       "      <th>4283</th>\n",
       "      <td>GALPOWTEL</td>\n",
       "      <td>/company/GALPOWTEL/</td>\n",
       "      <td>https://www.screener.in/company/GALPOWTEL/</td>\n",
       "      <td>True</td>\n",
       "    </tr>\n",
       "    <tr>\n",
       "      <th>4288</th>\n",
       "      <td>TMTINDIA</td>\n",
       "      <td>/company/TMTINDIA/</td>\n",
       "      <td>https://www.screener.in/company/TMTINDIA/</td>\n",
       "      <td>True</td>\n",
       "    </tr>\n",
       "  </tbody>\n",
       "</table>\n",
       "<p>2310 rows × 4 columns</p>\n",
       "</div>"
      ],
      "text/plain": [
       "     company name                        company_url  \\\n",
       "0        RELIANCE    /company/RELIANCE/consolidated/   \n",
       "1             TCS         /company/TCS/consolidated/   \n",
       "2        HDFCBANK    /company/HDFCBANK/consolidated/   \n",
       "3       ICICIBANK   /company/ICICIBANK/consolidated/   \n",
       "4      HINDUNILVR  /company/HINDUNILVR/consolidated/   \n",
       "...           ...                                ...   \n",
       "4217       RAJVIR                   /company/RAJVIR/   \n",
       "4253   SSLFINANCE               /company/SSLFINANCE/   \n",
       "4269   MADHURFOOD               /company/MADHURFOOD/   \n",
       "4283    GALPOWTEL                /company/GALPOWTEL/   \n",
       "4288     TMTINDIA                 /company/TMTINDIA/   \n",
       "\n",
       "                                           screener url  is_company  \n",
       "0     https://www.screener.in/company/RELIANCE/conso...        True  \n",
       "1     https://www.screener.in/company/TCS/consolidated/        True  \n",
       "2     https://www.screener.in/company/HDFCBANK/conso...        True  \n",
       "3     https://www.screener.in/company/ICICIBANK/cons...        True  \n",
       "4     https://www.screener.in/company/HINDUNILVR/con...        True  \n",
       "...                                                 ...         ...  \n",
       "4217            https://www.screener.in/company/RAJVIR/        True  \n",
       "4253        https://www.screener.in/company/SSLFINANCE/        True  \n",
       "4269        https://www.screener.in/company/MADHURFOOD/        True  \n",
       "4283         https://www.screener.in/company/GALPOWTEL/        True  \n",
       "4288          https://www.screener.in/company/TMTINDIA/        True  \n",
       "\n",
       "[2310 rows x 4 columns]"
      ]
     },
     "execution_count": 50,
     "metadata": {},
     "output_type": "execute_result"
    }
   ],
   "source": [
    "df_normal"
   ]
  },
  {
   "cell_type": "code",
   "execution_count": 51,
   "metadata": {
    "colab": {
     "base_uri": "https://localhost:8080/"
    },
    "id": "F_nIL-Adn4j5",
    "outputId": "ac7c4174-0540-43d7-9024-470edf9a1c28"
   },
   "outputs": [
    {
     "name": "stderr",
     "output_type": "stream",
     "text": [
      "C:\\Users\\Shubham\\AppData\\Local\\Temp\\ipykernel_1912\\678516114.py:1: SettingWithCopyWarning: \n",
      "A value is trying to be set on a copy of a slice from a DataFrame.\n",
      "Try using .loc[row_indexer,col_indexer] = value instead\n",
      "\n",
      "See the caveats in the documentation: https://pandas.pydata.org/pandas-docs/stable/user_guide/indexing.html#returning-a-view-versus-a-copy\n",
      "  df_normal['company']=df_normal[['company name']]\n"
     ]
    }
   ],
   "source": [
    "df_normal['company']=df_normal[['company name']]"
   ]
  },
  {
   "cell_type": "code",
   "execution_count": 52,
   "metadata": {
    "colab": {
     "base_uri": "https://localhost:8080/",
     "height": 423
    },
    "id": "CDAMKhF-n99V",
    "outputId": "8c0619b4-d538-4585-e0f4-0457d1672e34"
   },
   "outputs": [
    {
     "data": {
      "text/html": [
       "<div>\n",
       "<style scoped>\n",
       "    .dataframe tbody tr th:only-of-type {\n",
       "        vertical-align: middle;\n",
       "    }\n",
       "\n",
       "    .dataframe tbody tr th {\n",
       "        vertical-align: top;\n",
       "    }\n",
       "\n",
       "    .dataframe thead th {\n",
       "        text-align: right;\n",
       "    }\n",
       "</style>\n",
       "<table border=\"1\" class=\"dataframe\">\n",
       "  <thead>\n",
       "    <tr style=\"text-align: right;\">\n",
       "      <th></th>\n",
       "      <th>company name</th>\n",
       "      <th>company_url</th>\n",
       "      <th>screener url</th>\n",
       "      <th>is_company</th>\n",
       "      <th>company</th>\n",
       "    </tr>\n",
       "  </thead>\n",
       "  <tbody>\n",
       "    <tr>\n",
       "      <th>0</th>\n",
       "      <td>RELIANCE</td>\n",
       "      <td>/company/RELIANCE/consolidated/</td>\n",
       "      <td>https://www.screener.in/company/RELIANCE/conso...</td>\n",
       "      <td>True</td>\n",
       "      <td>RELIANCE</td>\n",
       "    </tr>\n",
       "    <tr>\n",
       "      <th>1</th>\n",
       "      <td>TCS</td>\n",
       "      <td>/company/TCS/consolidated/</td>\n",
       "      <td>https://www.screener.in/company/TCS/consolidated/</td>\n",
       "      <td>True</td>\n",
       "      <td>TCS</td>\n",
       "    </tr>\n",
       "    <tr>\n",
       "      <th>2</th>\n",
       "      <td>HDFCBANK</td>\n",
       "      <td>/company/HDFCBANK/consolidated/</td>\n",
       "      <td>https://www.screener.in/company/HDFCBANK/conso...</td>\n",
       "      <td>True</td>\n",
       "      <td>HDFCBANK</td>\n",
       "    </tr>\n",
       "    <tr>\n",
       "      <th>3</th>\n",
       "      <td>ICICIBANK</td>\n",
       "      <td>/company/ICICIBANK/consolidated/</td>\n",
       "      <td>https://www.screener.in/company/ICICIBANK/cons...</td>\n",
       "      <td>True</td>\n",
       "      <td>ICICIBANK</td>\n",
       "    </tr>\n",
       "    <tr>\n",
       "      <th>4</th>\n",
       "      <td>HINDUNILVR</td>\n",
       "      <td>/company/HINDUNILVR/consolidated/</td>\n",
       "      <td>https://www.screener.in/company/HINDUNILVR/con...</td>\n",
       "      <td>True</td>\n",
       "      <td>HINDUNILVR</td>\n",
       "    </tr>\n",
       "    <tr>\n",
       "      <th>...</th>\n",
       "      <td>...</td>\n",
       "      <td>...</td>\n",
       "      <td>...</td>\n",
       "      <td>...</td>\n",
       "      <td>...</td>\n",
       "    </tr>\n",
       "    <tr>\n",
       "      <th>4217</th>\n",
       "      <td>RAJVIR</td>\n",
       "      <td>/company/RAJVIR/</td>\n",
       "      <td>https://www.screener.in/company/RAJVIR/</td>\n",
       "      <td>True</td>\n",
       "      <td>RAJVIR</td>\n",
       "    </tr>\n",
       "    <tr>\n",
       "      <th>4253</th>\n",
       "      <td>SSLFINANCE</td>\n",
       "      <td>/company/SSLFINANCE/</td>\n",
       "      <td>https://www.screener.in/company/SSLFINANCE/</td>\n",
       "      <td>True</td>\n",
       "      <td>SSLFINANCE</td>\n",
       "    </tr>\n",
       "    <tr>\n",
       "      <th>4269</th>\n",
       "      <td>MADHURFOOD</td>\n",
       "      <td>/company/MADHURFOOD/</td>\n",
       "      <td>https://www.screener.in/company/MADHURFOOD/</td>\n",
       "      <td>True</td>\n",
       "      <td>MADHURFOOD</td>\n",
       "    </tr>\n",
       "    <tr>\n",
       "      <th>4283</th>\n",
       "      <td>GALPOWTEL</td>\n",
       "      <td>/company/GALPOWTEL/</td>\n",
       "      <td>https://www.screener.in/company/GALPOWTEL/</td>\n",
       "      <td>True</td>\n",
       "      <td>GALPOWTEL</td>\n",
       "    </tr>\n",
       "    <tr>\n",
       "      <th>4288</th>\n",
       "      <td>TMTINDIA</td>\n",
       "      <td>/company/TMTINDIA/</td>\n",
       "      <td>https://www.screener.in/company/TMTINDIA/</td>\n",
       "      <td>True</td>\n",
       "      <td>TMTINDIA</td>\n",
       "    </tr>\n",
       "  </tbody>\n",
       "</table>\n",
       "<p>2310 rows × 5 columns</p>\n",
       "</div>"
      ],
      "text/plain": [
       "     company name                        company_url  \\\n",
       "0        RELIANCE    /company/RELIANCE/consolidated/   \n",
       "1             TCS         /company/TCS/consolidated/   \n",
       "2        HDFCBANK    /company/HDFCBANK/consolidated/   \n",
       "3       ICICIBANK   /company/ICICIBANK/consolidated/   \n",
       "4      HINDUNILVR  /company/HINDUNILVR/consolidated/   \n",
       "...           ...                                ...   \n",
       "4217       RAJVIR                   /company/RAJVIR/   \n",
       "4253   SSLFINANCE               /company/SSLFINANCE/   \n",
       "4269   MADHURFOOD               /company/MADHURFOOD/   \n",
       "4283    GALPOWTEL                /company/GALPOWTEL/   \n",
       "4288     TMTINDIA                 /company/TMTINDIA/   \n",
       "\n",
       "                                           screener url  is_company  \\\n",
       "0     https://www.screener.in/company/RELIANCE/conso...        True   \n",
       "1     https://www.screener.in/company/TCS/consolidated/        True   \n",
       "2     https://www.screener.in/company/HDFCBANK/conso...        True   \n",
       "3     https://www.screener.in/company/ICICIBANK/cons...        True   \n",
       "4     https://www.screener.in/company/HINDUNILVR/con...        True   \n",
       "...                                                 ...         ...   \n",
       "4217            https://www.screener.in/company/RAJVIR/        True   \n",
       "4253        https://www.screener.in/company/SSLFINANCE/        True   \n",
       "4269        https://www.screener.in/company/MADHURFOOD/        True   \n",
       "4283         https://www.screener.in/company/GALPOWTEL/        True   \n",
       "4288          https://www.screener.in/company/TMTINDIA/        True   \n",
       "\n",
       "         company  \n",
       "0       RELIANCE  \n",
       "1            TCS  \n",
       "2       HDFCBANK  \n",
       "3      ICICIBANK  \n",
       "4     HINDUNILVR  \n",
       "...          ...  \n",
       "4217      RAJVIR  \n",
       "4253  SSLFINANCE  \n",
       "4269  MADHURFOOD  \n",
       "4283   GALPOWTEL  \n",
       "4288    TMTINDIA  \n",
       "\n",
       "[2310 rows x 5 columns]"
      ]
     },
     "execution_count": 52,
     "metadata": {},
     "output_type": "execute_result"
    }
   ],
   "source": [
    "df_normal"
   ]
  },
  {
   "cell_type": "code",
   "execution_count": 53,
   "metadata": {
    "colab": {
     "base_uri": "https://localhost:8080/"
    },
    "id": "5YCLKMNKn-m3",
    "outputId": "8ebbf97e-79f0-4760-8ae7-dabaa595f956"
   },
   "outputs": [
    {
     "name": "stderr",
     "output_type": "stream",
     "text": [
      "C:\\Users\\Shubham\\AppData\\Local\\Temp\\ipykernel_1912\\3789315701.py:1: FutureWarning: The frame.append method is deprecated and will be removed from pandas in a future version. Use pandas.concat instead.\n",
      "  df_final=df_normal.append(df_num)\n"
     ]
    }
   ],
   "source": [
    "df_final=df_normal.append(df_num)"
   ]
  },
  {
   "cell_type": "code",
   "execution_count": 54,
   "metadata": {
    "colab": {
     "base_uri": "https://localhost:8080/"
    },
    "id": "Hbi5TGSMolmE",
    "outputId": "ce925378-57de-4751-b3c0-d5dd2942e47d"
   },
   "outputs": [
    {
     "data": {
      "text/plain": [
       "(2320, 5)"
      ]
     },
     "execution_count": 54,
     "metadata": {},
     "output_type": "execute_result"
    }
   ],
   "source": [
    "df_final.shape"
   ]
  },
  {
   "cell_type": "code",
   "execution_count": 55,
   "metadata": {
    "colab": {
     "base_uri": "https://localhost:8080/"
    },
    "id": "EUsGzBK7o3pm",
    "outputId": "6c393db2-6c09-4b88-a434-d2a83ba8ebf5"
   },
   "outputs": [
    {
     "data": {
      "text/plain": [
       "(4295, 4)"
      ]
     },
     "execution_count": 55,
     "metadata": {},
     "output_type": "execute_result"
    }
   ],
   "source": [
    "df.shape"
   ]
  },
  {
   "cell_type": "code",
   "execution_count": 56,
   "metadata": {
    "id": "UQPUXMDjo4_8"
   },
   "outputs": [],
   "source": [
    "df_final=df_final.reset_index(drop=True)"
   ]
  },
  {
   "cell_type": "code",
   "execution_count": 57,
   "metadata": {
    "colab": {
     "base_uri": "https://localhost:8080/",
     "height": 423
    },
    "id": "B6C1aqsjpe4c",
    "outputId": "b1af1f35-b844-4504-8e12-9766220222c2"
   },
   "outputs": [
    {
     "data": {
      "text/html": [
       "<div>\n",
       "<style scoped>\n",
       "    .dataframe tbody tr th:only-of-type {\n",
       "        vertical-align: middle;\n",
       "    }\n",
       "\n",
       "    .dataframe tbody tr th {\n",
       "        vertical-align: top;\n",
       "    }\n",
       "\n",
       "    .dataframe thead th {\n",
       "        text-align: right;\n",
       "    }\n",
       "</style>\n",
       "<table border=\"1\" class=\"dataframe\">\n",
       "  <thead>\n",
       "    <tr style=\"text-align: right;\">\n",
       "      <th></th>\n",
       "      <th>company name</th>\n",
       "      <th>company_url</th>\n",
       "      <th>screener url</th>\n",
       "      <th>company</th>\n",
       "    </tr>\n",
       "  </thead>\n",
       "  <tbody>\n",
       "    <tr>\n",
       "      <th>0</th>\n",
       "      <td>RELIANCE</td>\n",
       "      <td>/company/RELIANCE/consolidated/</td>\n",
       "      <td>https://www.screener.in/company/RELIANCE/conso...</td>\n",
       "      <td>RELIANCE</td>\n",
       "    </tr>\n",
       "    <tr>\n",
       "      <th>1</th>\n",
       "      <td>TCS</td>\n",
       "      <td>/company/TCS/consolidated/</td>\n",
       "      <td>https://www.screener.in/company/TCS/consolidated/</td>\n",
       "      <td>TCS</td>\n",
       "    </tr>\n",
       "    <tr>\n",
       "      <th>2</th>\n",
       "      <td>HDFCBANK</td>\n",
       "      <td>/company/HDFCBANK/consolidated/</td>\n",
       "      <td>https://www.screener.in/company/HDFCBANK/conso...</td>\n",
       "      <td>HDFCBANK</td>\n",
       "    </tr>\n",
       "    <tr>\n",
       "      <th>3</th>\n",
       "      <td>ICICIBANK</td>\n",
       "      <td>/company/ICICIBANK/consolidated/</td>\n",
       "      <td>https://www.screener.in/company/ICICIBANK/cons...</td>\n",
       "      <td>ICICIBANK</td>\n",
       "    </tr>\n",
       "    <tr>\n",
       "      <th>4</th>\n",
       "      <td>HINDUNILVR</td>\n",
       "      <td>/company/HINDUNILVR/consolidated/</td>\n",
       "      <td>https://www.screener.in/company/HINDUNILVR/con...</td>\n",
       "      <td>HINDUNILVR</td>\n",
       "    </tr>\n",
       "    <tr>\n",
       "      <th>...</th>\n",
       "      <td>...</td>\n",
       "      <td>...</td>\n",
       "      <td>...</td>\n",
       "      <td>...</td>\n",
       "    </tr>\n",
       "    <tr>\n",
       "      <th>2315</th>\n",
       "      <td>533095</td>\n",
       "      <td>/company/533095/consolidated/</td>\n",
       "      <td>https://www.screener.in/company/533095/consoli...</td>\n",
       "      <td>Bengal &amp; Assam Company Ltd</td>\n",
       "    </tr>\n",
       "    <tr>\n",
       "      <th>2316</th>\n",
       "      <td>532029</td>\n",
       "      <td>/company/532029/consolidated/</td>\n",
       "      <td>https://www.screener.in/company/532029/consoli...</td>\n",
       "      <td>Sindhu Trade Links Ltd</td>\n",
       "    </tr>\n",
       "    <tr>\n",
       "      <th>2317</th>\n",
       "      <td>504918</td>\n",
       "      <td>/company/504918/</td>\n",
       "      <td>https://www.screener.in/company/504918/</td>\n",
       "      <td>Sandur Manganese &amp; Iron Ores Ltd</td>\n",
       "    </tr>\n",
       "    <tr>\n",
       "      <th>2318</th>\n",
       "      <td>505872</td>\n",
       "      <td>/company/505872/consolidated/</td>\n",
       "      <td>https://www.screener.in/company/505872/consoli...</td>\n",
       "      <td>WPIL Ltd</td>\n",
       "    </tr>\n",
       "    <tr>\n",
       "      <th>2319</th>\n",
       "      <td>538891</td>\n",
       "      <td>/company/538891/consolidated/</td>\n",
       "      <td>https://www.screener.in/company/538891/consoli...</td>\n",
       "      <td>Magellanic Cloud Ltd</td>\n",
       "    </tr>\n",
       "  </tbody>\n",
       "</table>\n",
       "<p>2320 rows × 4 columns</p>\n",
       "</div>"
      ],
      "text/plain": [
       "     company name                        company_url  \\\n",
       "0        RELIANCE    /company/RELIANCE/consolidated/   \n",
       "1             TCS         /company/TCS/consolidated/   \n",
       "2        HDFCBANK    /company/HDFCBANK/consolidated/   \n",
       "3       ICICIBANK   /company/ICICIBANK/consolidated/   \n",
       "4      HINDUNILVR  /company/HINDUNILVR/consolidated/   \n",
       "...           ...                                ...   \n",
       "2315       533095      /company/533095/consolidated/   \n",
       "2316       532029      /company/532029/consolidated/   \n",
       "2317       504918                   /company/504918/   \n",
       "2318       505872      /company/505872/consolidated/   \n",
       "2319       538891      /company/538891/consolidated/   \n",
       "\n",
       "                                           screener url  \\\n",
       "0     https://www.screener.in/company/RELIANCE/conso...   \n",
       "1     https://www.screener.in/company/TCS/consolidated/   \n",
       "2     https://www.screener.in/company/HDFCBANK/conso...   \n",
       "3     https://www.screener.in/company/ICICIBANK/cons...   \n",
       "4     https://www.screener.in/company/HINDUNILVR/con...   \n",
       "...                                                 ...   \n",
       "2315  https://www.screener.in/company/533095/consoli...   \n",
       "2316  https://www.screener.in/company/532029/consoli...   \n",
       "2317            https://www.screener.in/company/504918/   \n",
       "2318  https://www.screener.in/company/505872/consoli...   \n",
       "2319  https://www.screener.in/company/538891/consoli...   \n",
       "\n",
       "                               company  \n",
       "0                             RELIANCE  \n",
       "1                                  TCS  \n",
       "2                             HDFCBANK  \n",
       "3                            ICICIBANK  \n",
       "4                           HINDUNILVR  \n",
       "...                                ...  \n",
       "2315        Bengal & Assam Company Ltd  \n",
       "2316            Sindhu Trade Links Ltd  \n",
       "2317  Sandur Manganese & Iron Ores Ltd  \n",
       "2318                          WPIL Ltd  \n",
       "2319              Magellanic Cloud Ltd  \n",
       "\n",
       "[2320 rows x 4 columns]"
      ]
     },
     "execution_count": 57,
     "metadata": {},
     "output_type": "execute_result"
    }
   ],
   "source": [
    "df_final.drop(['is_company'],axis=1)"
   ]
  },
  {
   "cell_type": "code",
   "execution_count": 58,
   "metadata": {
    "id": "YHd06g0gp35g"
   },
   "outputs": [],
   "source": [
    "df_store=df_final[['company','company_url','screener url']]"
   ]
  },
  {
   "cell_type": "code",
   "execution_count": 59,
   "metadata": {
    "id": "n9UrVSdtqHYK"
   },
   "outputs": [],
   "source": [
    "df_store.to_csv('companies_data.csv')"
   ]
  }
 ],
 "metadata": {
  "accelerator": "GPU",
  "colab": {
   "gpuType": "T4",
   "provenance": []
  },
  "kernelspec": {
   "display_name": "Python 3 (ipykernel)",
   "language": "python",
   "name": "python3"
  },
  "language_info": {
   "codemirror_mode": {
    "name": "ipython",
    "version": 3
   },
   "file_extension": ".py",
   "mimetype": "text/x-python",
   "name": "python",
   "nbconvert_exporter": "python",
   "pygments_lexer": "ipython3",
   "version": "3.9.12"
  }
 },
 "nbformat": 4,
 "nbformat_minor": 1
}
